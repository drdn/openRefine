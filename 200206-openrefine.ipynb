{
 "cells": [
  {
   "cell_type": "markdown",
   "metadata": {
    "slideshow": {
     "slide_type": "slide"
    }
   },
   "source": [
    "# Working with Messy Data\n",
    "## Cleaning Data in OpenRefine\n",
    "<img src=\"assets/or-logo.png\" alt=\"OpenRefine Logo\" width=\"200\" align=\"right\"/>\n",
    "<br>\n",
    "<br>\n",
    "**David Durden**, Data Services Librarian<br>\n",
    "2020-February-06\n",
    "\n",
    "\n"
   ]
  },
  {
   "cell_type": "markdown",
   "metadata": {
    "slideshow": {
     "slide_type": "subslide"
    }
   },
   "source": [
    "## Agenda and Topics\n",
    "\n",
    "- Overview of the OpenRefine Application\n",
    "- Loading data\n",
    "- Performing data operations in OpenRefine\n",
    "- Creating workflow scripts\n",
    "- Format converstion\n",
    "- Saving data"
   ]
  },
  {
   "cell_type": "markdown",
   "metadata": {
    "slideshow": {
     "slide_type": "slide"
    }
   },
   "source": [
    "# Files and Links\n",
    "\n",
    "**Download Open Refine for you machine:** [https://openrefine.org/download.html]()\n",
    "\n",
    "**Useful GREL Cheat Sheet:** [Cheat Sheet](/assets/GoogleRefineCheatSheet.pdf)\n",
    "\n",
    "**Data for lesson/exercises:** [Data](data/doaj-article-sample.csv)"
   ]
  },
  {
   "cell_type": "markdown",
   "metadata": {
    "slideshow": {
     "slide_type": "slide"
    }
   },
   "source": [
    "# What is OpenRefine?\n",
    "\n",
    ">OpenRefine is a browser-based graphical application for working with structured data.\n",
    "\n",
    "- 'A tool for working with messy data'\n",
    "- Works best with data in a simple tabular format\n",
    "- Can help split data up into more granular parts\n",
    "- Can help match local data up to other data sets\n",
    "- Can help enhance a data set with with data from other sources"
   ]
  },
  {
   "cell_type": "markdown",
   "metadata": {
    "slideshow": {
     "slide_type": "subslide"
    }
   },
   "source": [
    "## Scenario: Date Formats\n",
    "\n",
    ">When you have a list of dates which are formatted in different ways, and want to change all the dates in the list to a single common date format. For example:\n",
    "\n",
    "<img src=\"assets/ex1.png\">"
   ]
  },
  {
   "cell_type": "markdown",
   "metadata": {
    "slideshow": {
     "slide_type": "subslide"
    }
   },
   "source": [
    "## Scenario: Multiple Elements in a Single Field\n",
    "\n",
    "> When you have several bits of data combined together in a single column, and you want to separate them out into individual bits of data with one column for each bit of the data. For example going from a single address field (in the first column), to each part of the address in a separate field:\n",
    "\n",
    "<img src=\"assets/ex2.png\">"
   ]
  },
  {
   "cell_type": "markdown",
   "metadata": {
    "slideshow": {
     "slide_type": "slide"
    }
   },
   "source": [
    "# Let's Load Some data\n",
    "\n",
    "Save a copy of this [csv](data/doaj-article-sample.csv)\n",
    "\n",
    "You can upload or import files in a variety of formats including:\n",
    "\n",
    "- TSV\n",
    "- CSV\n",
    "- Excel\n",
    "- JSON\n",
    "- XML\n",
    "- Google Spreadsheet"
   ]
  },
  {
   "cell_type": "markdown",
   "metadata": {
    "slideshow": {
     "slide_type": "subslide"
    }
   },
   "source": [
    "## Create your First Project\n",
    "\n",
    ">NOTE: If OpenRefine does not open in a browser window, open your browser and type `http://127.0.0.1:3333/` to take you to the OpenRefine interface.\n",
    "\n",
    "1. Click `Create Project` from the left hand menu and select `Get data from This Computer`\n",
    "2. Click `Choose Files` (or 'Browse') and locate the file which you have downloaded called `doaj-article-sample.csv`\n",
    "3. Click `Next >>` - the next screen gives you options to ensure the data is imported correctly. The options vary depending on the type of data you are importing.\n",
    "4. Click in the `Character encoding` box and set it to `UTF-8`\n",
    "5. Ensure the first row is used to create the column headings by checking `Parse next 1 line(s) as column headers`\n",
    "6. Make sure the `Parse cell text into numbers, dates, ...` box is not checked so OpenRefine doesn't try to automatically detect numbers\n",
    "7. The Project Name box in the upper right cornder will default to the title of your imported file. Click in the `Project Name` box to give it a different name.\n",
    "8. Click `Create Project >>` at the top right of the screen. This will create the project and open it for you. Projects are saved as you work on them, so there is no need to save copies as you go along.\n"
   ]
  },
  {
   "cell_type": "markdown",
   "metadata": {
    "slideshow": {
     "slide_type": "subslide"
    }
   },
   "source": [
    "## The Layout of OpenRefine\n",
    "\n",
    ">OpenRefine displays data in a tabular format. Each row will usually represent a ‘record’ in the data, while each column represents a type of information. This is very similar to how you might view data in a spreadsheet or database. As with a spreadsheet, the individual bits of data live in ‘cells’ at the intersection of a row and a column.\n",
    "\n",
    ">OpenRefine only displays a limited number of rows of data at one time. You can adjust the number choosing between 5, 10 (the default), 25 and 50 at the top left of the table of data. You can navigate through the records by using the previous/next/first/last navigation options at the top right of the table of data.\n",
    "\n",
    ">Most options to work with data in OpenRefine are accessed from drop down menus at the top of the data columns. When you select an option in a particular column (e.g. to make a change to the data), it will affect all the cells in that column. If you want to make changes across several columns, you will need to do this one column at a time."
   ]
  },
  {
   "cell_type": "markdown",
   "metadata": {
    "slideshow": {
     "slide_type": "subslide"
    }
   },
   "source": [
    "## Rows vs. Records\n",
    "\n",
    ">OpenRefine has two modes of viewing data: ‘Rows’ and ‘Records’. At the moment we are in Rows mode, where each row represents a single record in the data set - in this case, an article. In Records mode, OpenRefine can link together multiple rows as belonging to the same Record."
   ]
  },
  {
   "cell_type": "markdown",
   "metadata": {
    "slideshow": {
     "slide_type": "slide"
    }
   },
   "source": [
    "# Basic Data Operations"
   ]
  },
  {
   "cell_type": "markdown",
   "metadata": {
    "slideshow": {
     "slide_type": "subslide"
    }
   },
   "source": [
    "## Splitting Cells\n",
    "\n",
    "To see how this works in practice we can split author names into separate cells. If you look at the Author column you should be able to see that there are multiple names in each cell separated by the pipe symbol ( | ).\n",
    "\n",
    "To work with the author names effectively in OpenRefine, we need to have each name in an individual cell. To split the names into their own cells, we can use a `Split multi-valued cells` function:\n",
    "\n",
    "- Click the dropdown menu at the top of the Author column\n",
    "- Choose `Edit cells -> Split multi-valued cells`\n",
    "- In the prompt type the ( | ) symbol and click `OK`\n",
    "    - Note that the rows are still numbered sequentially\n",
    "- Click the `Records` option to change to Records mode\n",
    "    - Note how the numbering has changed - indicating that several rows are related to the same record"
   ]
  },
  {
   "cell_type": "markdown",
   "metadata": {
    "slideshow": {
     "slide_type": "subslide"
    }
   },
   "source": [
    "## Joining Cells\n",
    "\n",
    "A common workflow with multi-valued cells is:\n",
    "\n",
    "- Split mult-valued cells into individual cells\n",
    "- Modify/refine/clean individual cells\n",
    "- Join multi-valued cells back together\n",
    "\n",
    "Modifying cells will be covered later, but for now we will join the cells back together.\n",
    "\n",
    "- Click the dropdown meny at the top of the Author column\n",
    "- Choose `Edit cells -> Join multi-valued cells`\n",
    "- In the prompt type the ( | ) 'pipe' symbol\n",
    "    - Here we are specifying the *delimiter* character for OpenRefine to use to join the values together\n",
    "- Click `OK` to join the Authors cells back together\n"
   ]
  },
  {
   "cell_type": "markdown",
   "metadata": {
    "slideshow": {
     "slide_type": "subslide"
    }
   },
   "source": [
    "You will now see that the split rows have gone away - the Authors have been joined into a single cell with the specified delimiter. Our Rows and Records values will now be the same since we do not have any more columns ith split (multi-valued) cells.\n",
    "\n",
    "- Click both the `Rows` and `Records` options and observe how the numbers of Rows and Records are equal."
   ]
  },
  {
   "cell_type": "markdown",
   "metadata": {
    "slideshow": {
     "slide_type": "subslide"
    }
   },
   "source": [
    "## Choosing a Good Separator\n",
    "\n",
    ">The value that separates multi-valued cells is called a separator or delimiter. Choosing a good separater is important. In the examples, we've seen the pipe character ( | ) has been used.\n",
    "\n",
    "Choosing the wrong separator can lead to problems. Consider the following multi-valued Author example. With a pipe as a separator.\n",
    "\n",
    "`Jones, Andrew | Davis, S.`\n",
    "\n",
    "When we tell OpenRefine to split this cell on the pipe ( | ), we will get two separate authors.\n",
    "\n",
    "Now imagine that the document creator has chosen a **comma** as the separator instead of a pipe.\n",
    "\n",
    "`Jones, Andrew, Davis, S.`\n",
    "\n",
    "> Can you spot the problems? Can you tell where one author stops and the next begins?"
   ]
  },
  {
   "cell_type": "markdown",
   "metadata": {
    "slideshow": {
     "slide_type": "subslide"
    }
   },
   "source": [
    "> OpenRefine will split on **every** comma it encounters, so we'll end up with 4 authors, not two. We will get four \"authors\" because there are 3 commas separating the names.\n",
    "\n",
    "- **Author 1:** Jones\n",
    "- **Author 2:** Andrew\n",
    "- **Author 3:** Davis\n",
    "- **Author 4:** S.\n",
    "\n",
    "Splitting on a comma will not work with Authors because the names may include commas within them.\n",
    "\n",
    ">When creating a spreasheet with multi-valued cells, choose a separator that will never appear in the cell values themselves. The pipe character ( | ) is often a good choice since it is rarely used in data. Commas, colons, and semi-colons should be avoided as separators"
   ]
  },
  {
   "cell_type": "markdown",
   "metadata": {
    "slideshow": {
     "slide_type": "slide"
    }
   },
   "source": [
    "# Exercise: Splitting the 'Subjects' Column\n",
    "\n",
    "1. What separator character is used in the **Subjects** cells?\n",
    "2. How would you split these subject words into individual cells?\n",
    "\n",
    "<details>\n",
    "    <summary>Solution</summary>\n",
    "    <ol>\n",
    "        <li>The subject words/headings are delimited with the pipe ( | ) characer.</li>\n",
    "    <li>To split the subject words into individual cells you need to:\n",
    "        <ul>\n",
    "            <li>Click the drop-down menu at the top of the Subjects column</li>\n",
    "            <li>Choose `Edit cells -> Split multi-valued cells`</li>\n",
    "            <li>In the prompt, type the ( | ) character and click OK</li></ul></ol>\n",
    "</details>"
   ]
  },
  {
   "cell_type": "markdown",
   "metadata": {
    "slideshow": {
     "slide_type": "slide"
    }
   },
   "source": [
    "# Exercise: Join the 'Subjects' Column Back Together\n",
    "\n",
    "1. Using what we've learned, join the Subjects back together.\n",
    "\n",
    "<details>\n",
    "    <summary>Solution</summary>\n",
    "    <ol>\n",
    "        <li>The subject words/headings were previoulsy delimited with the pipe ( | ) character.</li>\n",
    "        <li>To join the split subject cells back into a single cell you need to:\n",
    "            <ul>\n",
    "                <li>Click the dropdown menu at the top of Subjects column</li>\n",
    "                <li>Choose `Edit cells -> Join multi-valued cells`</li>\n",
    "                <li>In the prompt type the ( | ) character and click OK</li></ul></ol></details>"
   ]
  },
  {
   "cell_type": "markdown",
   "metadata": {
    "slideshow": {
     "slide_type": "subslide"
    }
   },
   "source": [
    "## Faceting and Filtering\n",
    "\n",
    "> What is a facet?\n",
    "\n",
    "Facets are one of the most useful features of OpenRefine and can help in both getting an overview of the data and to improve the consistency of the data.\n",
    "\n",
    "A facet groups all the values that appear in a column, and then allows you to filter the data by these values and edit values across many records at the same time.\n",
    "\n",
    "The simplest type of fact is called a **'Text facet'**. This groups all the text values in a column and lists each value with the number of records/rows it appears in. The facet information always appears in the left hand panel in the OpenRefine interface.\n"
   ]
  },
  {
   "cell_type": "markdown",
   "metadata": {
    "slideshow": {
     "slide_type": "subslide"
    }
   },
   "source": [
    "To create a **Text Facet** for a column, click on the drop down menu at the top of the publisher column and choose `Facet -> Text Facet`. The facet will the appear in the left hand panel.\n",
    "\n",
    "The facet consists of a list of values present in the data. You can filter the data displayed by clicking on one of these headings.\n",
    "\n",
    "You can include multiple values from the facet in a filter at one time by using the `Include` option which appears when you put your mouse over a value in the facet.\n",
    "\n",
    "You can also `invert` the filter to show all records which do not match your selected values. This option appears at the top of the the facet panel when you select a value from the facet to apply as a filter."
   ]
  },
  {
   "cell_type": "markdown",
   "metadata": {
    "slideshow": {
     "slide_type": "subslide"
    }
   },
   "source": [
    "## Let's Create a Text Facet\n",
    "\n",
    "1. Click on the drop down menu at the top of the publisher column and choose `Facet -> Text Facet`. The facet will then appear in the left hand panel.\n",
    "2. To select a single value, just click the relevant line in the facet.\n",
    "3. To select multiple values click the `Include` option on the appropriate line in the facet (which only appears when you mouse over the line).\n",
    "4. You can 'invert' your selections to `exclude`.\n",
    "5. Include a value and the look at top to invert inclusion. "
   ]
  },
  {
   "cell_type": "markdown",
   "metadata": {
    "slideshow": {
     "slide_type": "slide"
    }
   },
   "source": [
    "## Exercise: Text Facets\n",
    "\n",
    ">Which licencses are used for articles in this file?\n",
    "\n",
    "Use a `text facet` for the `license` column and answer these questions?\n",
    "1. What is the most common license in the file?\n",
    "2. How many articles in the file don't have a license assigned?\n",
    "\n",
    "<details><summary>Solution</summary><ol><li>Create a facet for the License column</li><li>Sort values by `count`</li><li>What is the most common License in the file? **Answer:** `CC BY`</li><li>How many articles in the file don't have a license assigned? **Answer:** `6`</li></ol></details>"
   ]
  },
  {
   "cell_type": "markdown",
   "metadata": {
    "slideshow": {
     "slide_type": "subslide"
    }
   },
   "source": [
    "## Filters\n",
    "\n",
    "> What is a filter?\n",
    "\n",
    "As well as using facets to filter the data displayed in OpenRefine, you can also apply **'Text Filters** which looks for a particular piece of text appearing in a column. Text filters are applied by clicking the drop down menu at the top of the column you want to apply the filter to and choosing `Text filter`.\n",
    "\n",
    "As with facets, the filter options appear in the left hand panel in OpenRefine. Simply type in the text you want to use in the filter to display only rows which contain that text in the relevant column.\n",
    "\n",
    "> You can also use regular expression in the filter."
   ]
  },
  {
   "cell_type": "markdown",
   "metadata": {
    "slideshow": {
     "slide_type": "subslide"
    }
   },
   "source": [
    "## Working with Filtered Data\n",
    "\n",
    "It's important to note that when you have filtered the data displayed in OpenRefine, any operations you carry out will apply only to the rows that match the filter - that is the data currently being displayed."
   ]
  },
  {
   "cell_type": "markdown",
   "metadata": {
    "slideshow": {
     "slide_type": "subslide"
    }
   },
   "source": [
    "## Exercise: Facets\n",
    "\n",
    "> Use the `Facet by blank` function to find all publications in this data set without a DOI\n",
    "\n",
    "<details><summary>Solution</summary><ol><li>On the `DOI` column drop-down, select `Customzied facets -> Facet by blank`</li><li>`True` means that it is blank, so you can:<ul><li>Select `Include` on `True` in the facet to filter the list of publications to only those that don't have a DOI</li></ul></li></ol></details>"
   ]
  },
  {
   "cell_type": "markdown",
   "metadata": {
    "slideshow": {
     "slide_type": "subslide"
    }
   },
   "source": [
    "## Other Facet Types\n",
    "\n",
    "OpenRefine also supports a range of other types of facets beyond 'Text Facets'. These include:\n",
    "\n",
    "- Numeric facets\n",
    "- Timeline facets (for dates)\n",
    "- Scatterplot facets\n",
    "- Custom facets\n",
    "\n",
    "**Numeric and Timeline facets** display graphs instead of lists of values. The graph includes 'drag and drop' controls you can use to set a start and end range to filter the data displayed.\n",
    "\n",
    "**Scatterplot facets** are less commonly used and show the relationships between all numeric values in each column. See more info [here](https://web.archive.org/web/20190105063215/http://enipedia.tudelft.nl/wiki/OpenRefine_Tutorial#Exploring_the_data_with_scatter_plots)."
   ]
  },
  {
   "cell_type": "markdown",
   "metadata": {
    "slideshow": {
     "slide_type": "subslide"
    }
   },
   "source": [
    "**Custom facets** are a range of different types of facets. Some of the default custom facets are:\n",
    "\n",
    "- **Word facet** - this breaks down text into words and counts the number of records each word appears in.\n",
    "- **Duplicates facet** - results in a binary facet of `true` or `false`. Rows appear in the `true` facet if the value in the selected column is an exact match for a value in the same column in another row.\n",
    "- **Text length facet** - creates a numeric facet based on the length (number of characters) of the text in each row for the selected column. This can be useful for spotting incorrect or unsual data in a field where specific lenghts are expected (e.g. if the values are expected to be years, any row with a text lenght more than 4 for that column is likely to be incorrect).\n",
    "- **Facet by blank** - a binary value of `true` or `false`. Rows appear in the `true` facet if they have no data present in that column. This is useful when looking for rows missing key data.\n",
    "\n",
    ">Facets are intended to group together common values and OpenRefine limits the number of values allowed in a single facet to ensure the software does not perform slowly or run out of memory. If you create a facet where there are many unique values (e.g. a facet on a 'book title' where the is only one row per title) the facet created will be very large and may either slow down the applicaion, or OpenRefine will not create the facet."
   ]
  },
  {
   "cell_type": "markdown",
   "metadata": {
    "slideshow": {
     "slide_type": "subslide"
    }
   },
   "source": [
    "## Amending Data through Facets\n",
    "\n",
    ">If you create a text facet you can edit the values in the facet to change the value for several records at the same time. To do this, mouse-over the value you want to edit and clikc the `edit` option that appears.\n",
    "\n",
    "This approach is useful in relatively small facets where you might have small variations through punctuation or typing errors.\n",
    "\n",
    "For example, a column that should contain only terms from a small restricted list such as days of the week or months of the year.\n",
    "\n",
    "The list of values in the facet will update as you make edits."
   ]
  },
  {
   "cell_type": "markdown",
   "metadata": {
    "slideshow": {
     "slide_type": "subslide"
    }
   },
   "source": [
    "## Exercise: Correct the Language Values via Facet\n",
    "\n",
    "> Create a `Text Facet` on the `Language` column and correct the variation in the `EN` and `English` values. *You will want to replace `English` with `EN`.*\n",
    "\n",
    "<details><summary>Solution</summary><ol><li>Create a `Text facet` on the `Language` column</li><li>Notice that there is both `EN` and `English`</li><li>Put the mouse over the `English` value</li><li>Click `Edit`</li><li>Type `EN` and click `Apply`</li><li>See how the Language facet updates</li></ol></details>"
   ]
  },
  {
   "cell_type": "markdown",
   "metadata": {
    "slideshow": {
     "slide_type": "slide"
    }
   },
   "source": [
    "# Column Operations"
   ]
  },
  {
   "cell_type": "markdown",
   "metadata": {
    "slideshow": {
     "slide_type": "subslide"
    }
   },
   "source": [
    "## Reordering Columns\n",
    "\n",
    "You can re-order the columsn by clicking the drop-down menu at the top of the first column (labelled `All`), and choosing `Edit columns -> Re-order / remove columns...`.\n",
    "\n",
    "You can then drag and drop column names to re-order the columns, or remove columsn completely if they are not required."
   ]
  },
  {
   "cell_type": "markdown",
   "metadata": {
    "slideshow": {
     "slide_type": "subslide"
    }
   },
   "source": [
    "## Renaming Columns\n",
    "\n",
    "You can rename a column by opening the drop-down menu at the top of the column that you would like to rename, and choosing `Edit column -> Rename this column`. You will then be prompted to enter the new column name."
   ]
  },
  {
   "cell_type": "markdown",
   "metadata": {
    "slideshow": {
     "slide_type": "subslide"
    }
   },
   "source": [
    "## Sorting Data\n",
    "\n",
    "You can sort data in OpenRefine by clicking on the drop-down menu for the column you want to sort on, and choosing `Sort`.\n",
    "\n",
    "Once you have sorted the data, a new `Sort` drop-down menu will be displayed.\n",
    "\n",
    "Unlike in Excel, **Sorts** in OpenRefine are temporary - i.e., if you remove the `Sort`, the data will go back to its original 'unordered' state. The `Sort` drop-down meny lets you amend the existing sort (e.g., reverse the sort order), remove existing sorts, and/or make sorts permanent.\n",
    "\n",
    "You can sort on multiple columns at the same time by adding another sorted column in the same way."
   ]
  },
  {
   "cell_type": "markdown",
   "metadata": {
    "slideshow": {
     "slide_type": "subslide"
    }
   },
   "source": [
    "## Transformations\n",
    "\n",
    ">Facets, filters, and other operations in OpenRefine offer methods for getting an overview of your data, and making changes where you want standarizations of terms and values.\n",
    "\n",
    "However, sometimes there will be changes you want to make to the data that cannot be achieved this. Such changes include:\n",
    "\n",
    "- Splitting data that is in a single column into multiple columns (e.g., splitting an address into multiple parts)\n",
    "- Standardizing the format of data in a column withouth changing the values (e.g., removing punctuation or standardizing data formats)\n",
    "- Extracting a particular type of data from a longer text string (e.g, finding ISBNs in a bibligraphic citation)\n",
    "\n",
    "OpenRefine provides **Transformations** which are methods of manipulating data in columns. Transformations are typically written in **GREL** (General Refine Expression Langauge). GREL expressions are similar to Excel formulae, although they tend to focus on text manipluations rather than numeric functions.\n",
    "\n",
    "Full documentation for the GREL is available at [https://github.com/OpenRefine/OpenRefine/wiki/General-Refine-Expression-Language](). This tutorial covers only a small subset of the commands available."
   ]
  },
  {
   "cell_type": "markdown",
   "metadata": {
    "slideshow": {
     "slide_type": "subslide"
    }
   },
   "source": [
    "### Common Transformations\n",
    "\n",
    "> Some transformations are used regularly and are accessible directly through menu options.\n",
    "\n",
    "Below is a table of common transformations and the equivalent GREL expression if you were to write it out.\n",
    "\n",
    "<img src=\"assets/ex3.png\">\n"
   ]
  },
  {
   "cell_type": "markdown",
   "metadata": {
    "slideshow": {
     "slide_type": "subslide"
    }
   },
   "source": [
    "## Exercise: Correct Publisher Data\n",
    "\n",
    "1. Create a text facet on the `Publisher` column\n",
    "2. Note that the values there are two that look identical - why does this value appear twice? What can you do to fix it?\n",
    "\n",
    "<details><summary>Solution</summary>There is extra whitespace in the cell!<ol><li>On the publisher column use the drop-down menu to select `Edit cells -> Common transformations -> Trim leading and trailing whitespace`</li><li>Look at the publisher facet now - has it changed? **If it hasn't, try clicking the `Refresh` option to force an update.**</li></ol></details>"
   ]
  },
  {
   "cell_type": "markdown",
   "metadata": {
    "slideshow": {
     "slide_type": "subslide"
    }
   },
   "source": [
    "## Writing Transformations\n",
    "\n",
    "Select the column on which you wish to perform a transformation and choose `Edit cells -> Transform...`. In the prompt you have a place to write a script and then the ability to preview the effect the transformation would have on 10 rows of your data.\n",
    "\n",
    ">The simplest GREL expression is `value` - which means the value of the cells in the current column.\n",
    "\n",
    "GREL fucntions are written by giving a value of some kind (text string, data, number, etc.) to a GREL function. Functions have two basics types fo syntax:\n",
    "\n",
    "- `value.function(options)`\n",
    "- `function(value, options)`\n",
    "\n",
    ">Either is valid, but in these examples the first syntax is used."
   ]
  },
  {
   "cell_type": "markdown",
   "metadata": {
    "slideshow": {
     "slide_type": "subslide"
    }
   },
   "source": [
    "## Try it Out: Put Titles into Title Case\n",
    "\n",
    ">Use Facets and the GREL expression `value.toTitlecase()` to put the titles in Title Case.\n",
    "\n",
    "1. Facet by publisher.\n",
    "2. Select \"Akshantala Enterprises\" and \"Society of Pharmaceutical Technocrats\"\n",
    "3. To select multiple values in the facet use the `include` link that appears to the right of the facet\n",
    "4. See that the Titles for these are all in uppercase\n",
    "5. Click the dropdown menu on the Title columm\n",
    "6. Choose `Edit cells -> Transform...`\n",
    "7. In the expression box type `value.toTitlecase()`\n",
    "8. In the Preview pane under `value.toTitlecase()` you can see what the effect of running this will be\n",
    "9. Click `OK`\n"
   ]
  },
  {
   "cell_type": "markdown",
   "metadata": {
    "slideshow": {
     "slide_type": "subslide"
    }
   },
   "source": [
    "## Transformations for Strings, Numbers, Dates, and Booleans\n",
    "\n",
    "> Each datum in OpenRefine has a 'type'. The most common type is 'string', or a piece of text. \n",
    "\n",
    "### Dates and Numbers\n",
    "\n",
    "So far we’ve been looking only at ‘String’ type data. Much of the time it is possible to treat numbers and dates as strings. For example in the Date column we have the date of publication represented as a String. However, some operations and transformations only work on ‘number’ or ‘date’ type operations. The simplest example is sorting values in numeric or date order. To carry out these functions we need to convert the values to a date or number first."
   ]
  },
  {
   "cell_type": "markdown",
   "metadata": {
    "slideshow": {
     "slide_type": "subslide"
    }
   },
   "source": [
    "### Reformat a Date\n",
    "\n",
    "1. Remove any existing Facets or Filters.\n",
    "2. On the Date column, use the drop-down meny to select `Edit cells -> Transform`.\n",
    "3. In the expression box, type `value.toDate(\"dd/MM/yyyy\")` and press OK.\n",
    "4. Notice how the values are displayed in green and follow the ISO 8691 data convention - this indicates that values are now stored as date data types.\n",
    "5. On the Date column drop-down, select `Edit column -> Add column based on this colum`. Using this function you can created a new column, while preserving the old column.\n",
    "6. In the `New column name` type \"Formatted Date\".\n",
    "7. In the expression box, type `value.toString(\"dd MMMM yyyy\")"
   ]
  },
  {
   "cell_type": "markdown",
   "metadata": {
    "slideshow": {
     "slide_type": "subslide"
    }
   },
   "source": [
    "### Booleans\n",
    "\n",
    "> Booleans are binary values that can either be `true` or `false`. Booleans can be used directly in OpenRefine celss, but they are more commonly usedful when used in transformations as part of a GREL expression.\n",
    "\n",
    "For example:\n",
    "\n",
    "`value.contains(\"test\")` generates a boolean value of `true` or `false` depending on whether the current value in the cell contains the string 'test' anywhere.\n",
    "\n",
    "Such tests can be combined with other expressions to create complex transformations. For example, `if(value.contains(\"test\"),\"Test data\",value)` replaces a cell value with the words \"Test data\" only *if* if the value in the cell contains the string \"test\" anywhere."
   ]
  },
  {
   "cell_type": "markdown",
   "metadata": {
    "slideshow": {
     "slide_type": "slide"
    }
   },
   "source": [
    "# Undo and Redo\n",
    "\n",
    ">OpenRefine lets you undo, and redo, any number of steps you have taken in cleaning the data. This means you can always explore new transformations and 'undo' if needed. \n",
    "\n",
    "OpenRefine records the steps you have taken and even allows you to export steps in order to apply them to another data set.\n",
    "\n",
    "The `Undo` and `Redo` options are accessed via the lefthand panel.\n",
    "\n",
    "To undo, click on the last step you want to preserve in the list and it will revert back to that step. If you make new transformations after 'undoing', previous steps will be greyed out and will no longer be accessible."
   ]
  },
  {
   "cell_type": "markdown",
   "metadata": {
    "slideshow": {
     "slide_type": "subslide"
    }
   },
   "source": [
    "## Create a Workflow Script\n",
    "\n",
    "If you wish to save a set of steps to be used later, for example in a different project, you can click the `Extract` button. This gives you the option to select steps that you want to save, and extract a code for those steps (stored in JSON). You can save the JSON in a plain text file for later.\n",
    "\n",
    "To apply a set of steps you have copied or saved, use the `Apply` button and paste in the JSON.\n",
    "\n",
    ">Note: Transformations exported will only work on similarly structured data, e.g., if you have no \"Date\" column but have transformations that requrie this column, none of these transformation will occur."
   ]
  },
  {
   "cell_type": "markdown",
   "metadata": {
    "slideshow": {
     "slide_type": "slide"
    }
   },
   "source": [
    "# Export your Data\n",
    "\n",
    ">Once you have finished working with a dataset in OpenRefine, you may wish to export. The export options are access through the `Export` button at the top right of the OpenRefine interface.\n",
    "\n",
    "Export formats include:\n",
    "\n",
    "- HTML\n",
    "- Excel\n",
    "- Comma and Tab separated (CSV/TSV)\n",
    "- Custom exports for specific fields, including headers/footers, and specifying exact formats"
   ]
  },
  {
   "cell_type": "markdown",
   "metadata": {
    "slideshow": {
     "slide_type": "slide"
    }
   },
   "source": [
    "# Thanks!\n",
    "\n",
    "✉️ [durden@umd.edu](mailto:durden@umd.edu)<br>\n",
    "🖥 [lib.umd.edu/data](https://lib.umd.edu/data)\n",
    "\n",
    "\n",
    "Workshop materials were adapted from ['Library Carpentry: OpenRefine'](https://librarycarpentry.org/lc-open-refine/) under a [CC-BY 4.0](https://creativecommons.org/licenses/by/4.0/) License. Content was edited for time and audience."
   ]
  },
  {
   "cell_type": "code",
   "execution_count": null,
   "metadata": {},
   "outputs": [],
   "source": []
  }
 ],
 "metadata": {
  "celltoolbar": "Slideshow",
  "kernelspec": {
   "display_name": "Python 3",
   "language": "python",
   "name": "python3"
  },
  "language_info": {
   "codemirror_mode": {
    "name": "ipython",
    "version": 3
   },
   "file_extension": ".py",
   "mimetype": "text/x-python",
   "name": "python",
   "nbconvert_exporter": "python",
   "pygments_lexer": "ipython3",
   "version": "3.6.7"
  }
 },
 "nbformat": 4,
 "nbformat_minor": 2
}
